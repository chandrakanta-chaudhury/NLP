{
  "nbformat": 4,
  "nbformat_minor": 0,
  "metadata": {
    "colab": {
      "name": "Blog_summary_with_transformers.ipynb",
      "provenance": [],
      "collapsed_sections": [],
      "authorship_tag": "ABX9TyO18rDCkWooecm+yVnncW49",
      "include_colab_link": true
    },
    "kernelspec": {
      "name": "python3",
      "display_name": "Python 3"
    },
    "widgets": {
      "application/vnd.jupyter.widget-state+json": {
        "bff5380c7e7b460da82a0bf3b343148a": {
          "model_module": "@jupyter-widgets/controls",
          "model_name": "HBoxModel",
          "state": {
            "_view_name": "HBoxView",
            "_dom_classes": [],
            "_model_name": "HBoxModel",
            "_view_module": "@jupyter-widgets/controls",
            "_model_module_version": "1.5.0",
            "_view_count": null,
            "_view_module_version": "1.5.0",
            "box_style": "",
            "layout": "IPY_MODEL_686d01b78eeb4a2c96323f4c52098aca",
            "_model_module": "@jupyter-widgets/controls",
            "children": [
              "IPY_MODEL_261bced6502c461199a9fda0cf739cd9",
              "IPY_MODEL_0f92a8c8fc744bf5bbf61ce64c3a4145"
            ]
          }
        },
        "686d01b78eeb4a2c96323f4c52098aca": {
          "model_module": "@jupyter-widgets/base",
          "model_name": "LayoutModel",
          "state": {
            "_view_name": "LayoutView",
            "grid_template_rows": null,
            "right": null,
            "justify_content": null,
            "_view_module": "@jupyter-widgets/base",
            "overflow": null,
            "_model_module_version": "1.2.0",
            "_view_count": null,
            "flex_flow": null,
            "width": null,
            "min_width": null,
            "border": null,
            "align_items": null,
            "bottom": null,
            "_model_module": "@jupyter-widgets/base",
            "top": null,
            "grid_column": null,
            "overflow_y": null,
            "overflow_x": null,
            "grid_auto_flow": null,
            "grid_area": null,
            "grid_template_columns": null,
            "flex": null,
            "_model_name": "LayoutModel",
            "justify_items": null,
            "grid_row": null,
            "max_height": null,
            "align_content": null,
            "visibility": null,
            "align_self": null,
            "height": null,
            "min_height": null,
            "padding": null,
            "grid_auto_rows": null,
            "grid_gap": null,
            "max_width": null,
            "order": null,
            "_view_module_version": "1.2.0",
            "grid_template_areas": null,
            "object_position": null,
            "object_fit": null,
            "grid_auto_columns": null,
            "margin": null,
            "display": null,
            "left": null
          }
        },
        "261bced6502c461199a9fda0cf739cd9": {
          "model_module": "@jupyter-widgets/controls",
          "model_name": "FloatProgressModel",
          "state": {
            "_view_name": "ProgressView",
            "style": "IPY_MODEL_c0a1392472b141728cb7a3f2ba9dc829",
            "_dom_classes": [],
            "description": "Downloading: 100%",
            "_model_name": "FloatProgressModel",
            "bar_style": "success",
            "max": 898823,
            "_view_module": "@jupyter-widgets/controls",
            "_model_module_version": "1.5.0",
            "value": 898823,
            "_view_count": null,
            "_view_module_version": "1.5.0",
            "orientation": "horizontal",
            "min": 0,
            "description_tooltip": null,
            "_model_module": "@jupyter-widgets/controls",
            "layout": "IPY_MODEL_d7388c8702df4a289aebb97d701f9f0c"
          }
        },
        "0f92a8c8fc744bf5bbf61ce64c3a4145": {
          "model_module": "@jupyter-widgets/controls",
          "model_name": "HTMLModel",
          "state": {
            "_view_name": "HTMLView",
            "style": "IPY_MODEL_2136cf7a433745e98120e203657f802a",
            "_dom_classes": [],
            "description": "",
            "_model_name": "HTMLModel",
            "placeholder": "​",
            "_view_module": "@jupyter-widgets/controls",
            "_model_module_version": "1.5.0",
            "value": " 899k/899k [00:00&lt;00:00, 2.26MB/s]",
            "_view_count": null,
            "_view_module_version": "1.5.0",
            "description_tooltip": null,
            "_model_module": "@jupyter-widgets/controls",
            "layout": "IPY_MODEL_a9098459e9a54001becd356529941aa1"
          }
        },
        "c0a1392472b141728cb7a3f2ba9dc829": {
          "model_module": "@jupyter-widgets/controls",
          "model_name": "ProgressStyleModel",
          "state": {
            "_view_name": "StyleView",
            "_model_name": "ProgressStyleModel",
            "description_width": "initial",
            "_view_module": "@jupyter-widgets/base",
            "_model_module_version": "1.5.0",
            "_view_count": null,
            "_view_module_version": "1.2.0",
            "bar_color": null,
            "_model_module": "@jupyter-widgets/controls"
          }
        },
        "d7388c8702df4a289aebb97d701f9f0c": {
          "model_module": "@jupyter-widgets/base",
          "model_name": "LayoutModel",
          "state": {
            "_view_name": "LayoutView",
            "grid_template_rows": null,
            "right": null,
            "justify_content": null,
            "_view_module": "@jupyter-widgets/base",
            "overflow": null,
            "_model_module_version": "1.2.0",
            "_view_count": null,
            "flex_flow": null,
            "width": null,
            "min_width": null,
            "border": null,
            "align_items": null,
            "bottom": null,
            "_model_module": "@jupyter-widgets/base",
            "top": null,
            "grid_column": null,
            "overflow_y": null,
            "overflow_x": null,
            "grid_auto_flow": null,
            "grid_area": null,
            "grid_template_columns": null,
            "flex": null,
            "_model_name": "LayoutModel",
            "justify_items": null,
            "grid_row": null,
            "max_height": null,
            "align_content": null,
            "visibility": null,
            "align_self": null,
            "height": null,
            "min_height": null,
            "padding": null,
            "grid_auto_rows": null,
            "grid_gap": null,
            "max_width": null,
            "order": null,
            "_view_module_version": "1.2.0",
            "grid_template_areas": null,
            "object_position": null,
            "object_fit": null,
            "grid_auto_columns": null,
            "margin": null,
            "display": null,
            "left": null
          }
        },
        "2136cf7a433745e98120e203657f802a": {
          "model_module": "@jupyter-widgets/controls",
          "model_name": "DescriptionStyleModel",
          "state": {
            "_view_name": "StyleView",
            "_model_name": "DescriptionStyleModel",
            "description_width": "",
            "_view_module": "@jupyter-widgets/base",
            "_model_module_version": "1.5.0",
            "_view_count": null,
            "_view_module_version": "1.2.0",
            "_model_module": "@jupyter-widgets/controls"
          }
        },
        "a9098459e9a54001becd356529941aa1": {
          "model_module": "@jupyter-widgets/base",
          "model_name": "LayoutModel",
          "state": {
            "_view_name": "LayoutView",
            "grid_template_rows": null,
            "right": null,
            "justify_content": null,
            "_view_module": "@jupyter-widgets/base",
            "overflow": null,
            "_model_module_version": "1.2.0",
            "_view_count": null,
            "flex_flow": null,
            "width": null,
            "min_width": null,
            "border": null,
            "align_items": null,
            "bottom": null,
            "_model_module": "@jupyter-widgets/base",
            "top": null,
            "grid_column": null,
            "overflow_y": null,
            "overflow_x": null,
            "grid_auto_flow": null,
            "grid_area": null,
            "grid_template_columns": null,
            "flex": null,
            "_model_name": "LayoutModel",
            "justify_items": null,
            "grid_row": null,
            "max_height": null,
            "align_content": null,
            "visibility": null,
            "align_self": null,
            "height": null,
            "min_height": null,
            "padding": null,
            "grid_auto_rows": null,
            "grid_gap": null,
            "max_width": null,
            "order": null,
            "_view_module_version": "1.2.0",
            "grid_template_areas": null,
            "object_position": null,
            "object_fit": null,
            "grid_auto_columns": null,
            "margin": null,
            "display": null,
            "left": null
          }
        },
        "6ca232b82a2d4ffc84cf1d3278d3f7d5": {
          "model_module": "@jupyter-widgets/controls",
          "model_name": "HBoxModel",
          "state": {
            "_view_name": "HBoxView",
            "_dom_classes": [],
            "_model_name": "HBoxModel",
            "_view_module": "@jupyter-widgets/controls",
            "_model_module_version": "1.5.0",
            "_view_count": null,
            "_view_module_version": "1.5.0",
            "box_style": "",
            "layout": "IPY_MODEL_4a3f54b77ca84cdfbab41c00c71d4f05",
            "_model_module": "@jupyter-widgets/controls",
            "children": [
              "IPY_MODEL_ddd88c14de7c44588e1d7a52099a019f",
              "IPY_MODEL_e604413a24f243f78a3c6531d9882031"
            ]
          }
        },
        "4a3f54b77ca84cdfbab41c00c71d4f05": {
          "model_module": "@jupyter-widgets/base",
          "model_name": "LayoutModel",
          "state": {
            "_view_name": "LayoutView",
            "grid_template_rows": null,
            "right": null,
            "justify_content": null,
            "_view_module": "@jupyter-widgets/base",
            "overflow": null,
            "_model_module_version": "1.2.0",
            "_view_count": null,
            "flex_flow": null,
            "width": null,
            "min_width": null,
            "border": null,
            "align_items": null,
            "bottom": null,
            "_model_module": "@jupyter-widgets/base",
            "top": null,
            "grid_column": null,
            "overflow_y": null,
            "overflow_x": null,
            "grid_auto_flow": null,
            "grid_area": null,
            "grid_template_columns": null,
            "flex": null,
            "_model_name": "LayoutModel",
            "justify_items": null,
            "grid_row": null,
            "max_height": null,
            "align_content": null,
            "visibility": null,
            "align_self": null,
            "height": null,
            "min_height": null,
            "padding": null,
            "grid_auto_rows": null,
            "grid_gap": null,
            "max_width": null,
            "order": null,
            "_view_module_version": "1.2.0",
            "grid_template_areas": null,
            "object_position": null,
            "object_fit": null,
            "grid_auto_columns": null,
            "margin": null,
            "display": null,
            "left": null
          }
        },
        "ddd88c14de7c44588e1d7a52099a019f": {
          "model_module": "@jupyter-widgets/controls",
          "model_name": "FloatProgressModel",
          "state": {
            "_view_name": "ProgressView",
            "style": "IPY_MODEL_ac808991a0e04c33b55800a57c9e45e2",
            "_dom_classes": [],
            "description": "Downloading: 100%",
            "_model_name": "FloatProgressModel",
            "bar_style": "success",
            "max": 456318,
            "_view_module": "@jupyter-widgets/controls",
            "_model_module_version": "1.5.0",
            "value": 456318,
            "_view_count": null,
            "_view_module_version": "1.5.0",
            "orientation": "horizontal",
            "min": 0,
            "description_tooltip": null,
            "_model_module": "@jupyter-widgets/controls",
            "layout": "IPY_MODEL_7effa8fff66b495ab1c3055b25188257"
          }
        },
        "e604413a24f243f78a3c6531d9882031": {
          "model_module": "@jupyter-widgets/controls",
          "model_name": "HTMLModel",
          "state": {
            "_view_name": "HTMLView",
            "style": "IPY_MODEL_c858d0694f674d22bd6e064526b32bec",
            "_dom_classes": [],
            "description": "",
            "_model_name": "HTMLModel",
            "placeholder": "​",
            "_view_module": "@jupyter-widgets/controls",
            "_model_module_version": "1.5.0",
            "value": " 456k/456k [00:00&lt;00:00, 3.15MB/s]",
            "_view_count": null,
            "_view_module_version": "1.5.0",
            "description_tooltip": null,
            "_model_module": "@jupyter-widgets/controls",
            "layout": "IPY_MODEL_caddb1b46a1b41d2a17610947a392c13"
          }
        },
        "ac808991a0e04c33b55800a57c9e45e2": {
          "model_module": "@jupyter-widgets/controls",
          "model_name": "ProgressStyleModel",
          "state": {
            "_view_name": "StyleView",
            "_model_name": "ProgressStyleModel",
            "description_width": "initial",
            "_view_module": "@jupyter-widgets/base",
            "_model_module_version": "1.5.0",
            "_view_count": null,
            "_view_module_version": "1.2.0",
            "bar_color": null,
            "_model_module": "@jupyter-widgets/controls"
          }
        },
        "7effa8fff66b495ab1c3055b25188257": {
          "model_module": "@jupyter-widgets/base",
          "model_name": "LayoutModel",
          "state": {
            "_view_name": "LayoutView",
            "grid_template_rows": null,
            "right": null,
            "justify_content": null,
            "_view_module": "@jupyter-widgets/base",
            "overflow": null,
            "_model_module_version": "1.2.0",
            "_view_count": null,
            "flex_flow": null,
            "width": null,
            "min_width": null,
            "border": null,
            "align_items": null,
            "bottom": null,
            "_model_module": "@jupyter-widgets/base",
            "top": null,
            "grid_column": null,
            "overflow_y": null,
            "overflow_x": null,
            "grid_auto_flow": null,
            "grid_area": null,
            "grid_template_columns": null,
            "flex": null,
            "_model_name": "LayoutModel",
            "justify_items": null,
            "grid_row": null,
            "max_height": null,
            "align_content": null,
            "visibility": null,
            "align_self": null,
            "height": null,
            "min_height": null,
            "padding": null,
            "grid_auto_rows": null,
            "grid_gap": null,
            "max_width": null,
            "order": null,
            "_view_module_version": "1.2.0",
            "grid_template_areas": null,
            "object_position": null,
            "object_fit": null,
            "grid_auto_columns": null,
            "margin": null,
            "display": null,
            "left": null
          }
        },
        "c858d0694f674d22bd6e064526b32bec": {
          "model_module": "@jupyter-widgets/controls",
          "model_name": "DescriptionStyleModel",
          "state": {
            "_view_name": "StyleView",
            "_model_name": "DescriptionStyleModel",
            "description_width": "",
            "_view_module": "@jupyter-widgets/base",
            "_model_module_version": "1.5.0",
            "_view_count": null,
            "_view_module_version": "1.2.0",
            "_model_module": "@jupyter-widgets/controls"
          }
        },
        "caddb1b46a1b41d2a17610947a392c13": {
          "model_module": "@jupyter-widgets/base",
          "model_name": "LayoutModel",
          "state": {
            "_view_name": "LayoutView",
            "grid_template_rows": null,
            "right": null,
            "justify_content": null,
            "_view_module": "@jupyter-widgets/base",
            "overflow": null,
            "_model_module_version": "1.2.0",
            "_view_count": null,
            "flex_flow": null,
            "width": null,
            "min_width": null,
            "border": null,
            "align_items": null,
            "bottom": null,
            "_model_module": "@jupyter-widgets/base",
            "top": null,
            "grid_column": null,
            "overflow_y": null,
            "overflow_x": null,
            "grid_auto_flow": null,
            "grid_area": null,
            "grid_template_columns": null,
            "flex": null,
            "_model_name": "LayoutModel",
            "justify_items": null,
            "grid_row": null,
            "max_height": null,
            "align_content": null,
            "visibility": null,
            "align_self": null,
            "height": null,
            "min_height": null,
            "padding": null,
            "grid_auto_rows": null,
            "grid_gap": null,
            "max_width": null,
            "order": null,
            "_view_module_version": "1.2.0",
            "grid_template_areas": null,
            "object_position": null,
            "object_fit": null,
            "grid_auto_columns": null,
            "margin": null,
            "display": null,
            "left": null
          }
        },
        "3c8f1c5bb72246f3852fc4151c82058f": {
          "model_module": "@jupyter-widgets/controls",
          "model_name": "HBoxModel",
          "state": {
            "_view_name": "HBoxView",
            "_dom_classes": [],
            "_model_name": "HBoxModel",
            "_view_module": "@jupyter-widgets/controls",
            "_model_module_version": "1.5.0",
            "_view_count": null,
            "_view_module_version": "1.5.0",
            "box_style": "",
            "layout": "IPY_MODEL_37cbcba2f9034826ae70ca99972baa2e",
            "_model_module": "@jupyter-widgets/controls",
            "children": [
              "IPY_MODEL_0a258e0589344e44a3fa156a7b769e33",
              "IPY_MODEL_deead45792374e09b6d6d61ec57372ad"
            ]
          }
        },
        "37cbcba2f9034826ae70ca99972baa2e": {
          "model_module": "@jupyter-widgets/base",
          "model_name": "LayoutModel",
          "state": {
            "_view_name": "LayoutView",
            "grid_template_rows": null,
            "right": null,
            "justify_content": null,
            "_view_module": "@jupyter-widgets/base",
            "overflow": null,
            "_model_module_version": "1.2.0",
            "_view_count": null,
            "flex_flow": null,
            "width": null,
            "min_width": null,
            "border": null,
            "align_items": null,
            "bottom": null,
            "_model_module": "@jupyter-widgets/base",
            "top": null,
            "grid_column": null,
            "overflow_y": null,
            "overflow_x": null,
            "grid_auto_flow": null,
            "grid_area": null,
            "grid_template_columns": null,
            "flex": null,
            "_model_name": "LayoutModel",
            "justify_items": null,
            "grid_row": null,
            "max_height": null,
            "align_content": null,
            "visibility": null,
            "align_self": null,
            "height": null,
            "min_height": null,
            "padding": null,
            "grid_auto_rows": null,
            "grid_gap": null,
            "max_width": null,
            "order": null,
            "_view_module_version": "1.2.0",
            "grid_template_areas": null,
            "object_position": null,
            "object_fit": null,
            "grid_auto_columns": null,
            "margin": null,
            "display": null,
            "left": null
          }
        },
        "0a258e0589344e44a3fa156a7b769e33": {
          "model_module": "@jupyter-widgets/controls",
          "model_name": "FloatProgressModel",
          "state": {
            "_view_name": "ProgressView",
            "style": "IPY_MODEL_f554036e352747e5a4a3974b55ec54e4",
            "_dom_classes": [],
            "description": "Downloading: 100%",
            "_model_name": "FloatProgressModel",
            "bar_style": "success",
            "max": 1300,
            "_view_module": "@jupyter-widgets/controls",
            "_model_module_version": "1.5.0",
            "value": 1300,
            "_view_count": null,
            "_view_module_version": "1.5.0",
            "orientation": "horizontal",
            "min": 0,
            "description_tooltip": null,
            "_model_module": "@jupyter-widgets/controls",
            "layout": "IPY_MODEL_e7b4e7f1c7bb49e088637bb9e578e720"
          }
        },
        "deead45792374e09b6d6d61ec57372ad": {
          "model_module": "@jupyter-widgets/controls",
          "model_name": "HTMLModel",
          "state": {
            "_view_name": "HTMLView",
            "style": "IPY_MODEL_f3b1d66d5f28407b8fac0a3282e68aad",
            "_dom_classes": [],
            "description": "",
            "_model_name": "HTMLModel",
            "placeholder": "​",
            "_view_module": "@jupyter-widgets/controls",
            "_model_module_version": "1.5.0",
            "value": " 1.30k/1.30k [00:01&lt;00:00, 956B/s]",
            "_view_count": null,
            "_view_module_version": "1.5.0",
            "description_tooltip": null,
            "_model_module": "@jupyter-widgets/controls",
            "layout": "IPY_MODEL_d22c85c958b54046a31cab54a1115446"
          }
        },
        "f554036e352747e5a4a3974b55ec54e4": {
          "model_module": "@jupyter-widgets/controls",
          "model_name": "ProgressStyleModel",
          "state": {
            "_view_name": "StyleView",
            "_model_name": "ProgressStyleModel",
            "description_width": "initial",
            "_view_module": "@jupyter-widgets/base",
            "_model_module_version": "1.5.0",
            "_view_count": null,
            "_view_module_version": "1.2.0",
            "bar_color": null,
            "_model_module": "@jupyter-widgets/controls"
          }
        },
        "e7b4e7f1c7bb49e088637bb9e578e720": {
          "model_module": "@jupyter-widgets/base",
          "model_name": "LayoutModel",
          "state": {
            "_view_name": "LayoutView",
            "grid_template_rows": null,
            "right": null,
            "justify_content": null,
            "_view_module": "@jupyter-widgets/base",
            "overflow": null,
            "_model_module_version": "1.2.0",
            "_view_count": null,
            "flex_flow": null,
            "width": null,
            "min_width": null,
            "border": null,
            "align_items": null,
            "bottom": null,
            "_model_module": "@jupyter-widgets/base",
            "top": null,
            "grid_column": null,
            "overflow_y": null,
            "overflow_x": null,
            "grid_auto_flow": null,
            "grid_area": null,
            "grid_template_columns": null,
            "flex": null,
            "_model_name": "LayoutModel",
            "justify_items": null,
            "grid_row": null,
            "max_height": null,
            "align_content": null,
            "visibility": null,
            "align_self": null,
            "height": null,
            "min_height": null,
            "padding": null,
            "grid_auto_rows": null,
            "grid_gap": null,
            "max_width": null,
            "order": null,
            "_view_module_version": "1.2.0",
            "grid_template_areas": null,
            "object_position": null,
            "object_fit": null,
            "grid_auto_columns": null,
            "margin": null,
            "display": null,
            "left": null
          }
        },
        "f3b1d66d5f28407b8fac0a3282e68aad": {
          "model_module": "@jupyter-widgets/controls",
          "model_name": "DescriptionStyleModel",
          "state": {
            "_view_name": "StyleView",
            "_model_name": "DescriptionStyleModel",
            "description_width": "",
            "_view_module": "@jupyter-widgets/base",
            "_model_module_version": "1.5.0",
            "_view_count": null,
            "_view_module_version": "1.2.0",
            "_model_module": "@jupyter-widgets/controls"
          }
        },
        "d22c85c958b54046a31cab54a1115446": {
          "model_module": "@jupyter-widgets/base",
          "model_name": "LayoutModel",
          "state": {
            "_view_name": "LayoutView",
            "grid_template_rows": null,
            "right": null,
            "justify_content": null,
            "_view_module": "@jupyter-widgets/base",
            "overflow": null,
            "_model_module_version": "1.2.0",
            "_view_count": null,
            "flex_flow": null,
            "width": null,
            "min_width": null,
            "border": null,
            "align_items": null,
            "bottom": null,
            "_model_module": "@jupyter-widgets/base",
            "top": null,
            "grid_column": null,
            "overflow_y": null,
            "overflow_x": null,
            "grid_auto_flow": null,
            "grid_area": null,
            "grid_template_columns": null,
            "flex": null,
            "_model_name": "LayoutModel",
            "justify_items": null,
            "grid_row": null,
            "max_height": null,
            "align_content": null,
            "visibility": null,
            "align_self": null,
            "height": null,
            "min_height": null,
            "padding": null,
            "grid_auto_rows": null,
            "grid_gap": null,
            "max_width": null,
            "order": null,
            "_view_module_version": "1.2.0",
            "grid_template_areas": null,
            "object_position": null,
            "object_fit": null,
            "grid_auto_columns": null,
            "margin": null,
            "display": null,
            "left": null
          }
        },
        "11ce88fe4ee342a7be4ab0431ce7d678": {
          "model_module": "@jupyter-widgets/controls",
          "model_name": "HBoxModel",
          "state": {
            "_view_name": "HBoxView",
            "_dom_classes": [],
            "_model_name": "HBoxModel",
            "_view_module": "@jupyter-widgets/controls",
            "_model_module_version": "1.5.0",
            "_view_count": null,
            "_view_module_version": "1.5.0",
            "box_style": "",
            "layout": "IPY_MODEL_e0b30e60d55244949e42e3fee2f5319e",
            "_model_module": "@jupyter-widgets/controls",
            "children": [
              "IPY_MODEL_31413d8adb4a4233ac855ef491594b26",
              "IPY_MODEL_9c162cc6150d45a39e45b7ce4b5d1571"
            ]
          }
        },
        "e0b30e60d55244949e42e3fee2f5319e": {
          "model_module": "@jupyter-widgets/base",
          "model_name": "LayoutModel",
          "state": {
            "_view_name": "LayoutView",
            "grid_template_rows": null,
            "right": null,
            "justify_content": null,
            "_view_module": "@jupyter-widgets/base",
            "overflow": null,
            "_model_module_version": "1.2.0",
            "_view_count": null,
            "flex_flow": null,
            "width": null,
            "min_width": null,
            "border": null,
            "align_items": null,
            "bottom": null,
            "_model_module": "@jupyter-widgets/base",
            "top": null,
            "grid_column": null,
            "overflow_y": null,
            "overflow_x": null,
            "grid_auto_flow": null,
            "grid_area": null,
            "grid_template_columns": null,
            "flex": null,
            "_model_name": "LayoutModel",
            "justify_items": null,
            "grid_row": null,
            "max_height": null,
            "align_content": null,
            "visibility": null,
            "align_self": null,
            "height": null,
            "min_height": null,
            "padding": null,
            "grid_auto_rows": null,
            "grid_gap": null,
            "max_width": null,
            "order": null,
            "_view_module_version": "1.2.0",
            "grid_template_areas": null,
            "object_position": null,
            "object_fit": null,
            "grid_auto_columns": null,
            "margin": null,
            "display": null,
            "left": null
          }
        },
        "31413d8adb4a4233ac855ef491594b26": {
          "model_module": "@jupyter-widgets/controls",
          "model_name": "FloatProgressModel",
          "state": {
            "_view_name": "ProgressView",
            "style": "IPY_MODEL_f47765e7caec41aeb53b707c30ae9779",
            "_dom_classes": [],
            "description": "Downloading: 100%",
            "_model_name": "FloatProgressModel",
            "bar_style": "success",
            "max": 1625270765,
            "_view_module": "@jupyter-widgets/controls",
            "_model_module_version": "1.5.0",
            "value": 1625270765,
            "_view_count": null,
            "_view_module_version": "1.5.0",
            "orientation": "horizontal",
            "min": 0,
            "description_tooltip": null,
            "_model_module": "@jupyter-widgets/controls",
            "layout": "IPY_MODEL_a73b6520d68647e98aeceea6f28d80ba"
          }
        },
        "9c162cc6150d45a39e45b7ce4b5d1571": {
          "model_module": "@jupyter-widgets/controls",
          "model_name": "HTMLModel",
          "state": {
            "_view_name": "HTMLView",
            "style": "IPY_MODEL_5ab296321cba4663ae45607501216e34",
            "_dom_classes": [],
            "description": "",
            "_model_name": "HTMLModel",
            "placeholder": "​",
            "_view_module": "@jupyter-widgets/controls",
            "_model_module_version": "1.5.0",
            "value": " 1.63G/1.63G [00:35&lt;00:00, 45.3MB/s]",
            "_view_count": null,
            "_view_module_version": "1.5.0",
            "description_tooltip": null,
            "_model_module": "@jupyter-widgets/controls",
            "layout": "IPY_MODEL_9a77202f0abd4b4c8a6368f5e295827f"
          }
        },
        "f47765e7caec41aeb53b707c30ae9779": {
          "model_module": "@jupyter-widgets/controls",
          "model_name": "ProgressStyleModel",
          "state": {
            "_view_name": "StyleView",
            "_model_name": "ProgressStyleModel",
            "description_width": "initial",
            "_view_module": "@jupyter-widgets/base",
            "_model_module_version": "1.5.0",
            "_view_count": null,
            "_view_module_version": "1.2.0",
            "bar_color": null,
            "_model_module": "@jupyter-widgets/controls"
          }
        },
        "a73b6520d68647e98aeceea6f28d80ba": {
          "model_module": "@jupyter-widgets/base",
          "model_name": "LayoutModel",
          "state": {
            "_view_name": "LayoutView",
            "grid_template_rows": null,
            "right": null,
            "justify_content": null,
            "_view_module": "@jupyter-widgets/base",
            "overflow": null,
            "_model_module_version": "1.2.0",
            "_view_count": null,
            "flex_flow": null,
            "width": null,
            "min_width": null,
            "border": null,
            "align_items": null,
            "bottom": null,
            "_model_module": "@jupyter-widgets/base",
            "top": null,
            "grid_column": null,
            "overflow_y": null,
            "overflow_x": null,
            "grid_auto_flow": null,
            "grid_area": null,
            "grid_template_columns": null,
            "flex": null,
            "_model_name": "LayoutModel",
            "justify_items": null,
            "grid_row": null,
            "max_height": null,
            "align_content": null,
            "visibility": null,
            "align_self": null,
            "height": null,
            "min_height": null,
            "padding": null,
            "grid_auto_rows": null,
            "grid_gap": null,
            "max_width": null,
            "order": null,
            "_view_module_version": "1.2.0",
            "grid_template_areas": null,
            "object_position": null,
            "object_fit": null,
            "grid_auto_columns": null,
            "margin": null,
            "display": null,
            "left": null
          }
        },
        "5ab296321cba4663ae45607501216e34": {
          "model_module": "@jupyter-widgets/controls",
          "model_name": "DescriptionStyleModel",
          "state": {
            "_view_name": "StyleView",
            "_model_name": "DescriptionStyleModel",
            "description_width": "",
            "_view_module": "@jupyter-widgets/base",
            "_model_module_version": "1.5.0",
            "_view_count": null,
            "_view_module_version": "1.2.0",
            "_model_module": "@jupyter-widgets/controls"
          }
        },
        "9a77202f0abd4b4c8a6368f5e295827f": {
          "model_module": "@jupyter-widgets/base",
          "model_name": "LayoutModel",
          "state": {
            "_view_name": "LayoutView",
            "grid_template_rows": null,
            "right": null,
            "justify_content": null,
            "_view_module": "@jupyter-widgets/base",
            "overflow": null,
            "_model_module_version": "1.2.0",
            "_view_count": null,
            "flex_flow": null,
            "width": null,
            "min_width": null,
            "border": null,
            "align_items": null,
            "bottom": null,
            "_model_module": "@jupyter-widgets/base",
            "top": null,
            "grid_column": null,
            "overflow_y": null,
            "overflow_x": null,
            "grid_auto_flow": null,
            "grid_area": null,
            "grid_template_columns": null,
            "flex": null,
            "_model_name": "LayoutModel",
            "justify_items": null,
            "grid_row": null,
            "max_height": null,
            "align_content": null,
            "visibility": null,
            "align_self": null,
            "height": null,
            "min_height": null,
            "padding": null,
            "grid_auto_rows": null,
            "grid_gap": null,
            "max_width": null,
            "order": null,
            "_view_module_version": "1.2.0",
            "grid_template_areas": null,
            "object_position": null,
            "object_fit": null,
            "grid_auto_columns": null,
            "margin": null,
            "display": null,
            "left": null
          }
        }
      }
    }
  },
  "cells": [
    {
      "cell_type": "markdown",
      "metadata": {
        "id": "view-in-github",
        "colab_type": "text"
      },
      "source": [
        "<a href=\"https://colab.research.google.com/github/chandrakanta-chaudhury/NLP/blob/master/Blog_summary_with_transformers.ipynb\" target=\"_parent\"><img src=\"https://colab.research.google.com/assets/colab-badge.svg\" alt=\"Open In Colab\"/></a>"
      ]
    },
    {
      "cell_type": "code",
      "metadata": {
        "id": "w3PaDc0lX_yg",
        "colab_type": "code",
        "colab": {}
      },
      "source": [
        "import torch"
      ],
      "execution_count": 0,
      "outputs": []
    },
    {
      "cell_type": "code",
      "metadata": {
        "id": "kSpF3_kIYQ1w",
        "colab_type": "code",
        "colab": {
          "base_uri": "https://localhost:8080/",
          "height": 592
        },
        "outputId": "68c43b06-b406-48e6-962c-93b5efc970e2"
      },
      "source": [
        "!pip install transformers #we need to instsll transformers "
      ],
      "execution_count": 14,
      "outputs": [
        {
          "output_type": "stream",
          "text": [
            "Collecting transformers\n",
            "\u001b[?25l  Downloading https://files.pythonhosted.org/packages/cd/38/c9527aa055241c66c4d785381eaf6f80a28c224cae97daa1f8b183b5fabb/transformers-2.9.0-py3-none-any.whl (635kB)\n",
            "\r\u001b[K     |▌                               | 10kB 17.1MB/s eta 0:00:01\r\u001b[K     |█                               | 20kB 1.7MB/s eta 0:00:01\r\u001b[K     |█▌                              | 30kB 2.5MB/s eta 0:00:01\r\u001b[K     |██                              | 40kB 1.7MB/s eta 0:00:01\r\u001b[K     |██▋                             | 51kB 2.1MB/s eta 0:00:01\r\u001b[K     |███                             | 61kB 2.5MB/s eta 0:00:01\r\u001b[K     |███▋                            | 71kB 2.9MB/s eta 0:00:01\r\u001b[K     |████▏                           | 81kB 2.2MB/s eta 0:00:01\r\u001b[K     |████▋                           | 92kB 2.5MB/s eta 0:00:01\r\u001b[K     |█████▏                          | 102kB 2.7MB/s eta 0:00:01\r\u001b[K     |█████▊                          | 112kB 2.7MB/s eta 0:00:01\r\u001b[K     |██████▏                         | 122kB 2.7MB/s eta 0:00:01\r\u001b[K     |██████▊                         | 133kB 2.7MB/s eta 0:00:01\r\u001b[K     |███████▏                        | 143kB 2.7MB/s eta 0:00:01\r\u001b[K     |███████▊                        | 153kB 2.7MB/s eta 0:00:01\r\u001b[K     |████████▎                       | 163kB 2.7MB/s eta 0:00:01\r\u001b[K     |████████▊                       | 174kB 2.7MB/s eta 0:00:01\r\u001b[K     |█████████▎                      | 184kB 2.7MB/s eta 0:00:01\r\u001b[K     |█████████▉                      | 194kB 2.7MB/s eta 0:00:01\r\u001b[K     |██████████▎                     | 204kB 2.7MB/s eta 0:00:01\r\u001b[K     |██████████▉                     | 215kB 2.7MB/s eta 0:00:01\r\u001b[K     |███████████▍                    | 225kB 2.7MB/s eta 0:00:01\r\u001b[K     |███████████▉                    | 235kB 2.7MB/s eta 0:00:01\r\u001b[K     |████████████▍                   | 245kB 2.7MB/s eta 0:00:01\r\u001b[K     |████████████▉                   | 256kB 2.7MB/s eta 0:00:01\r\u001b[K     |█████████████▍                  | 266kB 2.7MB/s eta 0:00:01\r\u001b[K     |██████████████                  | 276kB 2.7MB/s eta 0:00:01\r\u001b[K     |██████████████▍                 | 286kB 2.7MB/s eta 0:00:01\r\u001b[K     |███████████████                 | 296kB 2.7MB/s eta 0:00:01\r\u001b[K     |███████████████▌                | 307kB 2.7MB/s eta 0:00:01\r\u001b[K     |████████████████                | 317kB 2.7MB/s eta 0:00:01\r\u001b[K     |████████████████▌               | 327kB 2.7MB/s eta 0:00:01\r\u001b[K     |█████████████████               | 337kB 2.7MB/s eta 0:00:01\r\u001b[K     |█████████████████▌              | 348kB 2.7MB/s eta 0:00:01\r\u001b[K     |██████████████████              | 358kB 2.7MB/s eta 0:00:01\r\u001b[K     |██████████████████▋             | 368kB 2.7MB/s eta 0:00:01\r\u001b[K     |███████████████████             | 378kB 2.7MB/s eta 0:00:01\r\u001b[K     |███████████████████▋            | 389kB 2.7MB/s eta 0:00:01\r\u001b[K     |████████████████████            | 399kB 2.7MB/s eta 0:00:01\r\u001b[K     |████████████████████▋           | 409kB 2.7MB/s eta 0:00:01\r\u001b[K     |█████████████████████▏          | 419kB 2.7MB/s eta 0:00:01\r\u001b[K     |█████████████████████▋          | 430kB 2.7MB/s eta 0:00:01\r\u001b[K     |██████████████████████▏         | 440kB 2.7MB/s eta 0:00:01\r\u001b[K     |██████████████████████▊         | 450kB 2.7MB/s eta 0:00:01\r\u001b[K     |███████████████████████▏        | 460kB 2.7MB/s eta 0:00:01\r\u001b[K     |███████████████████████▊        | 471kB 2.7MB/s eta 0:00:01\r\u001b[K     |████████████████████████▎       | 481kB 2.7MB/s eta 0:00:01\r\u001b[K     |████████████████████████▊       | 491kB 2.7MB/s eta 0:00:01\r\u001b[K     |█████████████████████████▎      | 501kB 2.7MB/s eta 0:00:01\r\u001b[K     |█████████████████████████▊      | 512kB 2.7MB/s eta 0:00:01\r\u001b[K     |██████████████████████████▎     | 522kB 2.7MB/s eta 0:00:01\r\u001b[K     |██████████████████████████▉     | 532kB 2.7MB/s eta 0:00:01\r\u001b[K     |███████████████████████████▎    | 542kB 2.7MB/s eta 0:00:01\r\u001b[K     |███████████████████████████▉    | 552kB 2.7MB/s eta 0:00:01\r\u001b[K     |████████████████████████████▍   | 563kB 2.7MB/s eta 0:00:01\r\u001b[K     |████████████████████████████▉   | 573kB 2.7MB/s eta 0:00:01\r\u001b[K     |█████████████████████████████▍  | 583kB 2.7MB/s eta 0:00:01\r\u001b[K     |██████████████████████████████  | 593kB 2.7MB/s eta 0:00:01\r\u001b[K     |██████████████████████████████▍ | 604kB 2.7MB/s eta 0:00:01\r\u001b[K     |███████████████████████████████ | 614kB 2.7MB/s eta 0:00:01\r\u001b[K     |███████████████████████████████▍| 624kB 2.7MB/s eta 0:00:01\r\u001b[K     |████████████████████████████████| 634kB 2.7MB/s eta 0:00:01\r\u001b[K     |████████████████████████████████| 645kB 2.7MB/s \n",
            "\u001b[?25hRequirement already satisfied: regex!=2019.12.17 in /usr/local/lib/python3.6/dist-packages (from transformers) (2019.12.20)\n",
            "Requirement already satisfied: dataclasses; python_version < \"3.7\" in /usr/local/lib/python3.6/dist-packages (from transformers) (0.7)\n",
            "Requirement already satisfied: requests in /usr/local/lib/python3.6/dist-packages (from transformers) (2.23.0)\n",
            "Requirement already satisfied: filelock in /usr/local/lib/python3.6/dist-packages (from transformers) (3.0.12)\n",
            "Requirement already satisfied: tqdm>=4.27 in /usr/local/lib/python3.6/dist-packages (from transformers) (4.41.1)\n",
            "Collecting tokenizers==0.7.0\n",
            "\u001b[?25l  Downloading https://files.pythonhosted.org/packages/14/e5/a26eb4716523808bb0a799fcfdceb6ebf77a18169d9591b2f46a9adb87d9/tokenizers-0.7.0-cp36-cp36m-manylinux1_x86_64.whl (3.8MB)\n",
            "\u001b[K     |████████████████████████████████| 3.8MB 44.6MB/s \n",
            "\u001b[?25hRequirement already satisfied: numpy in /usr/local/lib/python3.6/dist-packages (from transformers) (1.18.4)\n",
            "Collecting sentencepiece\n",
            "\u001b[?25l  Downloading https://files.pythonhosted.org/packages/98/2c/8df20f3ac6c22ac224fff307ebc102818206c53fc454ecd37d8ac2060df5/sentencepiece-0.1.86-cp36-cp36m-manylinux1_x86_64.whl (1.0MB)\n",
            "\u001b[K     |████████████████████████████████| 1.0MB 44.9MB/s \n",
            "\u001b[?25hCollecting sacremoses\n",
            "\u001b[?25l  Downloading https://files.pythonhosted.org/packages/7d/34/09d19aff26edcc8eb2a01bed8e98f13a1537005d31e95233fd48216eed10/sacremoses-0.0.43.tar.gz (883kB)\n",
            "\u001b[K     |████████████████████████████████| 890kB 30.8MB/s \n",
            "\u001b[?25hRequirement already satisfied: idna<3,>=2.5 in /usr/local/lib/python3.6/dist-packages (from requests->transformers) (2.9)\n",
            "Requirement already satisfied: certifi>=2017.4.17 in /usr/local/lib/python3.6/dist-packages (from requests->transformers) (2020.4.5.1)\n",
            "Requirement already satisfied: urllib3!=1.25.0,!=1.25.1,<1.26,>=1.21.1 in /usr/local/lib/python3.6/dist-packages (from requests->transformers) (1.24.3)\n",
            "Requirement already satisfied: chardet<4,>=3.0.2 in /usr/local/lib/python3.6/dist-packages (from requests->transformers) (3.0.4)\n",
            "Requirement already satisfied: six in /usr/local/lib/python3.6/dist-packages (from sacremoses->transformers) (1.12.0)\n",
            "Requirement already satisfied: click in /usr/local/lib/python3.6/dist-packages (from sacremoses->transformers) (7.1.2)\n",
            "Requirement already satisfied: joblib in /usr/local/lib/python3.6/dist-packages (from sacremoses->transformers) (0.14.1)\n",
            "Building wheels for collected packages: sacremoses\n",
            "  Building wheel for sacremoses (setup.py) ... \u001b[?25l\u001b[?25hdone\n",
            "  Created wheel for sacremoses: filename=sacremoses-0.0.43-cp36-none-any.whl size=893260 sha256=4f4c5bf18fe51deb803f9bcd41230333c63238bcbcd14380ad2da287fe9355cb\n",
            "  Stored in directory: /root/.cache/pip/wheels/29/3c/fd/7ce5c3f0666dab31a50123635e6fb5e19ceb42ce38d4e58f45\n",
            "Successfully built sacremoses\n",
            "Installing collected packages: tokenizers, sentencepiece, sacremoses, transformers\n",
            "Successfully installed sacremoses-0.0.43 sentencepiece-0.1.86 tokenizers-0.7.0 transformers-2.9.0\n"
          ],
          "name": "stdout"
        }
      ]
    },
    {
      "cell_type": "code",
      "metadata": {
        "id": "f6-QoZ6IYWEc",
        "colab_type": "code",
        "colab": {}
      },
      "source": [
        "#currently Bart transformer module is  not available to directly install via pip \n",
        "INSTALL_MSG = \"\"\"\n",
        "Bart will be released through pip in v 3.0.0, until then use it by installing from source:\n",
        "\n",
        "git clone git@github.com:huggingface/transformers.git\n",
        "git checkout d6de6423\n",
        "cd transformers\n",
        "pip install -e \".[dev]\"\n",
        "\n",
        "\"\"\"\n"
      ],
      "execution_count": 0,
      "outputs": []
    },
    {
      "cell_type": "code",
      "metadata": {
        "id": "m-heKdmbawxM",
        "colab_type": "code",
        "colab": {}
      },
      "source": [
        "import torch\n",
        "try:\n",
        "    import transformers\n",
        "    from transformers import BartTokenizer, BartForConditionalGeneration\n",
        "except ImportError:\n",
        "    raise ImportError(INSTALL_MSG)\n",
        "from IPython.display import display, Markdown\n",
        "\n",
        "torch_device = 'cuda' if torch.cuda.is_available() else 'cpu'"
      ],
      "execution_count": 0,
      "outputs": []
    },
    {
      "cell_type": "code",
      "metadata": {
        "id": "Qy3YVZ_jmeGe",
        "colab_type": "code",
        "colab": {}
      },
      "source": [
        "#using my memdium blog for product to get text data ,just copied it , you can scrap text data\n",
        "#url=\"https://medium.com/@chandrakanta_chaudhury/dont-be-afraid-to-imitate-by-sameer-parwani-90dfa490187f\""
      ],
      "execution_count": 0,
      "outputs": []
    },
    {
      "cell_type": "code",
      "metadata": {
        "id": "jTJBMIoQomy0",
        "colab_type": "code",
        "colab": {}
      },
      "source": [
        "Boring_product_text_artilce=\"\"\"\n",
        "Note : This blog has been derived from post written by Sameer Parwani and about product and entrepreneurship if u cant think of new ideas then copy from other place and validate and scale it.\n",
        "It is fine if you cant think of great bright ideas that can be turned into an awesome product , instead do the the copycat and these is in shame by doing this . There are lot of beautiful products or ideas implemented in other part of the world ,check them ,validate them according to your current market and refine and implement.\n",
        "“I’d rather be a hugely successful entrepreneur with a non-original idea than a struggling entrepreneur with an original idea .”\n",
        "For reference :\n",
        "Burp was India’s Yelp\n",
        "Ixigo is India’s Kayak\n",
        "Mswipe is India’s Square\n",
        "MakeMyTrip is India’s Expedia\n",
        "Baazee was India’s eBay (eBay acquired Baazee)\n",
        "So how do you find ideas for your start up :\n",
        "I.Import them from the west or east or elsewhere\n",
        "check point :\n",
        "a. Does the product is geographically specified or limited ?\n",
        "Google of India is google and there is no geographical thing . but MakeMytrip is Expedia of India ,as Expedia didn’t offer ticket booking for domestic travel which MakeMytrip allowed to Indians to book ticket for domestic travel.\n",
        "b.Are you solving a problem that also exists in India?\n",
        "Basically the product or idea you are building should solve the problem rather than just for showcasing it . for example dating sites in India are not successful as those are in west , but as things change over time and internet penetration happening in India now than before it might change .\n",
        "c. Is this idea already being copied left and right?\n",
        "In early 2011, thousands of Groupon clones emerged all over the world. Unless you were quick to the ground and one of the first 2–3 clones in each country, you had no chance of sustainable success. You want to avoid copy pasting the most hyped startup ideas.\n",
        "CouponDunia by sameer Parwani is one of them ,which was successfull .\n",
        "II. Export an Indian Idea\n",
        "There are many Indian start up which can solve problem elsewhere at other part of the world .Don’t be afraid to take an Indian idea and export it outside India.\n",
        "a. Freecharge with it’s concept of “free” recharges. This idea could potentially work in many countries where the online recharge market is nascent and pre-paid is more common than post-paid.\n",
        "b. Zipdial and the concept of missed call marketing. It’s such an easy way to create engagement between users and brands. Why can’t this work somewhere else?\n",
        "c.Redbus and the creation of an online bus booking aggregator. I don’t think there was anything similar anywhere else in the world when they launched.\n",
        "d. Justdial solving local search engine via call centers and an army of local salesmen. In the absence of mass Internet usage, local search is handled via telephone call center queries and/or text message. There are many other countries besides India where Internet use is minimal and likely to take years to get to massive penetration.\n",
        "III. Create a New Niche\n",
        "Hot or Not was one of the earliest social sites to go viral back in the early 2000s .The site asked users to post a photos of themselves for others to rate their attractiveness on a scale of 1–10. Users who found each other mutually attractive could also be connected with each other. Sameer has create hot or not for India and called it as RateDesi which had 25 million page views per month .\n",
        "Many successful businesses have been created by taking an existing business model and tweaking it to work a different niche. Etsy is Ebay for artists. Zappos was the Amazon for shoes. Zomato is the Burrp for restaurants. LinkedIn is the Facebook for your professional life.\n",
        "Final Thoughts :\n",
        "If there is only one thing you take away from this post it should be that there is no stigma attached to copying an existing business and finding a new home for it. It might feel like you are taking the easy way out and a few holier than though geeks might not appreciate your business, but remember ideas are a dime a dozen. It’s execution which is the differentiation factor.\"\"\""
      ],
      "execution_count": 0,
      "outputs": []
    },
    {
      "cell_type": "code",
      "metadata": {
        "id": "K2JBoKAhoqLA",
        "colab_type": "code",
        "colab": {
          "base_uri": "https://localhost:8080/",
          "height": 215,
          "referenced_widgets": [
            "bff5380c7e7b460da82a0bf3b343148a",
            "686d01b78eeb4a2c96323f4c52098aca",
            "261bced6502c461199a9fda0cf739cd9",
            "0f92a8c8fc744bf5bbf61ce64c3a4145",
            "c0a1392472b141728cb7a3f2ba9dc829",
            "d7388c8702df4a289aebb97d701f9f0c",
            "2136cf7a433745e98120e203657f802a",
            "a9098459e9a54001becd356529941aa1",
            "6ca232b82a2d4ffc84cf1d3278d3f7d5",
            "4a3f54b77ca84cdfbab41c00c71d4f05",
            "ddd88c14de7c44588e1d7a52099a019f",
            "e604413a24f243f78a3c6531d9882031",
            "ac808991a0e04c33b55800a57c9e45e2",
            "7effa8fff66b495ab1c3055b25188257",
            "c858d0694f674d22bd6e064526b32bec",
            "caddb1b46a1b41d2a17610947a392c13",
            "3c8f1c5bb72246f3852fc4151c82058f",
            "37cbcba2f9034826ae70ca99972baa2e",
            "0a258e0589344e44a3fa156a7b769e33",
            "deead45792374e09b6d6d61ec57372ad",
            "f554036e352747e5a4a3974b55ec54e4",
            "e7b4e7f1c7bb49e088637bb9e578e720",
            "f3b1d66d5f28407b8fac0a3282e68aad",
            "d22c85c958b54046a31cab54a1115446",
            "11ce88fe4ee342a7be4ab0431ce7d678",
            "e0b30e60d55244949e42e3fee2f5319e",
            "31413d8adb4a4233ac855ef491594b26",
            "9c162cc6150d45a39e45b7ce4b5d1571",
            "f47765e7caec41aeb53b707c30ae9779",
            "a73b6520d68647e98aeceea6f28d80ba",
            "5ab296321cba4663ae45607501216e34",
            "9a77202f0abd4b4c8a6368f5e295827f"
          ]
        },
        "outputId": "55b5f0cb-1e61-40da-b2c4-18cf482fda42"
      },
      "source": [
        "tokenizer = BartTokenizer.from_pretrained('bart-large-cnn')\n",
        "model = BartForConditionalGeneration.from_pretrained('bart-large-cnn')"
      ],
      "execution_count": 29,
      "outputs": [
        {
          "output_type": "display_data",
          "data": {
            "application/vnd.jupyter.widget-view+json": {
              "model_id": "bff5380c7e7b460da82a0bf3b343148a",
              "version_minor": 0,
              "version_major": 2
            },
            "text/plain": [
              "HBox(children=(FloatProgress(value=0.0, description='Downloading', max=898823.0, style=ProgressStyle(descripti…"
            ]
          },
          "metadata": {
            "tags": []
          }
        },
        {
          "output_type": "stream",
          "text": [
            "\n"
          ],
          "name": "stdout"
        },
        {
          "output_type": "display_data",
          "data": {
            "application/vnd.jupyter.widget-view+json": {
              "model_id": "6ca232b82a2d4ffc84cf1d3278d3f7d5",
              "version_minor": 0,
              "version_major": 2
            },
            "text/plain": [
              "HBox(children=(FloatProgress(value=0.0, description='Downloading', max=456318.0, style=ProgressStyle(descripti…"
            ]
          },
          "metadata": {
            "tags": []
          }
        },
        {
          "output_type": "stream",
          "text": [
            "\n"
          ],
          "name": "stdout"
        },
        {
          "output_type": "display_data",
          "data": {
            "application/vnd.jupyter.widget-view+json": {
              "model_id": "3c8f1c5bb72246f3852fc4151c82058f",
              "version_minor": 0,
              "version_major": 2
            },
            "text/plain": [
              "HBox(children=(FloatProgress(value=0.0, description='Downloading', max=1300.0, style=ProgressStyle(description…"
            ]
          },
          "metadata": {
            "tags": []
          }
        },
        {
          "output_type": "stream",
          "text": [
            "\n"
          ],
          "name": "stdout"
        },
        {
          "output_type": "display_data",
          "data": {
            "application/vnd.jupyter.widget-view+json": {
              "model_id": "11ce88fe4ee342a7be4ab0431ce7d678",
              "version_minor": 0,
              "version_major": 2
            },
            "text/plain": [
              "HBox(children=(FloatProgress(value=0.0, description='Downloading', max=1625270765.0, style=ProgressStyle(descr…"
            ]
          },
          "metadata": {
            "tags": []
          }
        },
        {
          "output_type": "stream",
          "text": [
            "\n"
          ],
          "name": "stdout"
        }
      ]
    },
    {
      "cell_type": "code",
      "metadata": {
        "id": "T3UKF05zpQYz",
        "colab_type": "code",
        "colab": {
          "base_uri": "https://localhost:8080/",
          "height": 35
        },
        "outputId": "5dabc732-bca4-46f3-a31d-306d38f485b9"
      },
      "source": [
        "article_input_ids = tokenizer.batch_encode_plus([Boring_product_text_artilce], return_tensors='pt', max_length=1024)['input_ids'].to(torch_device)\n",
        "summary_ids = model.generate(article_input_ids,\n",
        "                             num_beams=4,\n",
        "                             length_penalty=2.0,\n",
        "                             max_length=142,\n",
        "                             min_len=56,\n",
        "                             no_repeat_ngram_size=3)\n",
        "\n",
        "summary_txt = tokenizer.decode(summary_ids.squeeze(), skip_special_tokens=True)\n"
      ],
      "execution_count": 30,
      "outputs": [
        {
          "output_type": "display_data",
          "data": {
            "text/markdown": "> **Summary: **If u cant think of new ideas then copy from other place and validate and scale it. You want to avoid copy pasting the most hyped startup ideas. There are many Indian start up which can solve problem elsewhere at other part of the world. Don’t be afraid to take an Indian idea and export it outside India.",
            "text/plain": [
              "<IPython.core.display.Markdown object>"
            ]
          },
          "metadata": {
            "tags": []
          }
        }
      ]
    },
    {
      "cell_type": "code",
      "metadata": {
        "id": "CRJfG_kmpeDp",
        "colab_type": "code",
        "colab": {
          "base_uri": "https://localhost:8080/",
          "height": 55
        },
        "cellView": "code",
        "outputId": "51c90f53-2b7c-4c18-b3d6-8ec44665b654"
      },
      "source": [
        "#display summary\n",
        "print(summary_txt)"
      ],
      "execution_count": 31,
      "outputs": [
        {
          "output_type": "stream",
          "text": [
            "If u cant think of new ideas then copy from other place and validate and scale it. You want to avoid copy pasting the most hyped startup ideas. There are many Indian start up which can solve problem elsewhere at other part of the world. Don’t be afraid to take an Indian idea and export it outside India.\n"
          ],
          "name": "stdout"
        }
      ]
    },
    {
      "cell_type": "code",
      "metadata": {
        "id": "XaA9hLeeq4eY",
        "colab_type": "code",
        "colab": {}
      },
      "source": [
        ""
      ],
      "execution_count": 0,
      "outputs": []
    }
  ]
}